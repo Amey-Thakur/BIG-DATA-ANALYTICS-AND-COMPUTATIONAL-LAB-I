{
  "nbformat": 4,
  "nbformat_minor": 0,
  "metadata": {
    "colab": {
      "name": "Hadoop.ipynb",
      "provenance": [],
      "include_colab_link": true
    },
    "kernelspec": {
      "name": "python3",
      "display_name": "Python 3"
    },
    "language_info": {
      "name": "python"
    }
  },
  "cells": [
    {
      "cell_type": "markdown",
      "metadata": {
        "id": "view-in-github",
        "colab_type": "text"
      },
      "source": [
        "<a href=\"https://colab.research.google.com/github/Amey-Thakur/BIG-DATA-ANALYTICS-AND-COMPUTATIONAL-LAB-I/blob/main/BDA-9.ipynb\" target=\"_parent\"><img src=\"https://colab.research.google.com/assets/colab-badge.svg\" alt=\"Open In Colab\"/></a>"
      ]
    },
    {
      "cell_type": "code",
      "metadata": {
        "id": "bS3PVG7Cbjlw"
      },
      "source": [
        "# Install java\n",
        "!apt-get install openjdk-8-jdk-headless -qq > /dev/null"
      ],
      "execution_count": 1,
      "outputs": []
    },
    {
      "cell_type": "code",
      "metadata": {
        "id": "3R8Had9fdMZB"
      },
      "source": [
        "# Install spark (change the version number if needed)\n",
        "!wget -q https://archive.apache.org/dist/spark/spark-3.0.0/spark-3.0.0-bin-hadoop3.2.tgz"
      ],
      "execution_count": 2,
      "outputs": []
    },
    {
      "cell_type": "code",
      "metadata": {
        "id": "DW8h2LsQdcP6"
      },
      "source": [
        "# Unzip the spark file to the current folder\n",
        "!tar xf spark-3.0.0-bin-hadoop3.2.tgz"
      ],
      "execution_count": 3,
      "outputs": []
    },
    {
      "cell_type": "code",
      "metadata": {
        "id": "CaXbR-cRdftw"
      },
      "source": [
        "# Set your spark folder to your system path environment. \n",
        "import os\n",
        "os.environ[\"JAVA_HOME\"] = \"/usr/lib/jvm/java-8-openjdk-amd64\"\n",
        "os.environ[\"SPARK_HOME\"] = \"/content/spark-3.0.0-bin-hadoop3.2\""
      ],
      "execution_count": 4,
      "outputs": []
    },
    {
      "cell_type": "code",
      "metadata": {
        "id": "UB5n8MmKdmKb"
      },
      "source": [
        "# Install findspark using pip\n",
        "!pip install -q findspark"
      ],
      "execution_count": 5,
      "outputs": []
    },
    {
      "cell_type": "code",
      "metadata": {
        "colab": {
          "base_uri": "https://localhost:8080/"
        },
        "id": "5MiXlwPLdp6h",
        "outputId": "0250688a-7dab-498f-d997-d897ed4e6c03"
      },
      "source": [
        "# Spark for Python\n",
        "!pip install pyspark"
      ],
      "execution_count": 6,
      "outputs": [
        {
          "output_type": "stream",
          "name": "stdout",
          "text": [
            "Requirement already satisfied: pyspark in /usr/local/lib/python3.7/dist-packages (3.1.2)\n",
            "Requirement already satisfied: py4j==0.10.9 in /usr/local/lib/python3.7/dist-packages (from pyspark) (0.10.9)\n"
          ]
        }
      ]
    },
    {
      "cell_type": "code",
      "metadata": {
        "colab": {
          "base_uri": "https://localhost:8080/"
        },
        "id": "R1FjCOBZl3dt",
        "outputId": "865791c1-e95e-4e67-c095-3a91a04c1e65"
      },
      "source": [
        "pip install map"
      ],
      "execution_count": 7,
      "outputs": [
        {
          "output_type": "stream",
          "name": "stdout",
          "text": [
            "Requirement already satisfied: map in /usr/local/lib/python3.7/dist-packages (1.3.0)\n"
          ]
        }
      ]
    },
    {
      "cell_type": "code",
      "metadata": {
        "id": "7DZllS0km43c"
      },
      "source": [
        "# To find out path where pyspark installed\n",
        "import findspark\n",
        "findspark.init()"
      ],
      "execution_count": 8,
      "outputs": []
    },
    {
      "cell_type": "code",
      "metadata": {
        "id": "wBfGQbS56rt7",
        "outputId": "84d6d56c-4071-48e9-9be8-a8806cab8af9",
        "colab": {
          "base_uri": "https://localhost:8080/"
        }
      },
      "source": [
        "from pyspark.sql import SparkSession\n",
        "spark = SparkSession.builder.appName(\"Clustering using K-Means\").getOrCreate()\n",
        "data_customer = spark.read.csv('CC GENERAL.csv', header=True, inferSchema=True)\n",
        "data_customer.printSchema()"
      ],
      "execution_count": 9,
      "outputs": [
        {
          "output_type": "stream",
          "name": "stdout",
          "text": [
            "root\n",
            " |-- CUST_ID: string (nullable = true)\n",
            " |-- BALANCE: double (nullable = true)\n",
            " |-- BALANCE_FREQUENCY: double (nullable = true)\n",
            " |-- PURCHASES: double (nullable = true)\n",
            " |-- ONEOFF_PURCHASES: double (nullable = true)\n",
            " |-- INSTALLMENTS_PURCHASES: double (nullable = true)\n",
            " |-- CASH_ADVANCE: double (nullable = true)\n",
            " |-- PURCHASES_FREQUENCY: double (nullable = true)\n",
            " |-- ONEOFF_PURCHASES_FREQUENCY: double (nullable = true)\n",
            " |-- PURCHASES_INSTALLMENTS_FREQUENCY: double (nullable = true)\n",
            " |-- CASH_ADVANCE_FREQUENCY: double (nullable = true)\n",
            " |-- CASH_ADVANCE_TRX: integer (nullable = true)\n",
            " |-- PURCHASES_TRX: integer (nullable = true)\n",
            " |-- CREDIT_LIMIT: double (nullable = true)\n",
            " |-- PAYMENTS: double (nullable = true)\n",
            " |-- MINIMUM_PAYMENTS: double (nullable = true)\n",
            " |-- PRC_FULL_PAYMENT: double (nullable = true)\n",
            " |-- TENURE: integer (nullable = true)\n",
            "\n"
          ]
        }
      ]
    },
    {
      "cell_type": "code",
      "metadata": {
        "id": "oLvVenKC8BzR"
      },
      "source": [
        "data_customer=data_customer.na.drop()"
      ],
      "execution_count": 10,
      "outputs": []
    },
    {
      "cell_type": "code",
      "metadata": {
        "id": "VkLwyq4v-FU8",
        "outputId": "98fe2203-431d-4d3e-edf8-6a3de814b29b",
        "colab": {
          "base_uri": "https://localhost:8080/"
        }
      },
      "source": [
        "from pyspark.ml.feature import VectorAssembler\n",
        "data_customer.columns\n",
        "assemble=VectorAssembler(inputCols=[\n",
        "'BALANCE',\n",
        "'BALANCE_FREQUENCY',\n",
        "'PURCHASES',\n",
        "'ONEOFF_PURCHASES',\n",
        "'INSTALLMENTS_PURCHASES',\n",
        "'CASH_ADVANCE',\n",
        "'PURCHASES_FREQUENCY',\n",
        "'ONEOFF_PURCHASES_FREQUENCY',\n",
        "'CASH_ADVANCE_FREQUENCY',\n",
        "'CASH_ADVANCE_TRX',\n",
        "'PURCHASES_TRX',\n",
        "'CREDIT_LIMIT',\n",
        "'PAYMENTS',\n",
        "'MINIMUM_PAYMENTS',\n",
        "'PRC_FULL_PAYMENT',\n",
        "'TENURE' ], outputCol='features')\n",
        "assembled_data=assemble.transform(data_customer)\n",
        "assembled_data.show(2)"
      ],
      "execution_count": 11,
      "outputs": [
        {
          "output_type": "stream",
          "name": "stdout",
          "text": [
            "+-------+-----------+-----------------+---------+----------------+----------------------+------------+-------------------+--------------------------+--------------------------------+----------------------+----------------+-------------+------------+-----------+----------------+----------------+------+--------------------+\n",
            "|CUST_ID|    BALANCE|BALANCE_FREQUENCY|PURCHASES|ONEOFF_PURCHASES|INSTALLMENTS_PURCHASES|CASH_ADVANCE|PURCHASES_FREQUENCY|ONEOFF_PURCHASES_FREQUENCY|PURCHASES_INSTALLMENTS_FREQUENCY|CASH_ADVANCE_FREQUENCY|CASH_ADVANCE_TRX|PURCHASES_TRX|CREDIT_LIMIT|   PAYMENTS|MINIMUM_PAYMENTS|PRC_FULL_PAYMENT|TENURE|            features|\n",
            "+-------+-----------+-----------------+---------+----------------+----------------------+------------+-------------------+--------------------------+--------------------------------+----------------------+----------------+-------------+------------+-----------+----------------+----------------+------+--------------------+\n",
            "| C10001|  40.900749|         0.818182|     95.4|             0.0|                  95.4|         0.0|           0.166667|                       0.0|                        0.083333|                   0.0|               0|            2|      1000.0| 201.802084|      139.509787|             0.0|    12|[40.900749,0.8181...|\n",
            "| C10002|3202.467416|         0.909091|      0.0|             0.0|                   0.0| 6442.945483|                0.0|                       0.0|                             0.0|                  0.25|               4|            0|      7000.0|4103.032597|     1072.340217|        0.222222|    12|[3202.467416,0.90...|\n",
            "+-------+-----------+-----------------+---------+----------------+----------------------+------------+-------------------+--------------------------+--------------------------------+----------------------+----------------+-------------+------------+-----------+----------------+----------------+------+--------------------+\n",
            "only showing top 2 rows\n",
            "\n"
          ]
        }
      ]
    },
    {
      "cell_type": "code",
      "metadata": {
        "id": "3HSJDK6J-dG0",
        "outputId": "ca46797b-0d53-4193-f930-371c1b9c5666",
        "colab": {
          "base_uri": "https://localhost:8080/"
        }
      },
      "source": [
        "from pyspark.ml.feature import StandardScaler\n",
        "scale=StandardScaler(inputCol='features',outputCol='standardized')\n",
        "data_scale=scale.fit(assembled_data)\n",
        "data_scale_output=data_scale.transform(assembled_data)\n",
        "data_scale_output.show(2)"
      ],
      "execution_count": 12,
      "outputs": [
        {
          "output_type": "stream",
          "name": "stdout",
          "text": [
            "+-------+-----------+-----------------+---------+----------------+----------------------+------------+-------------------+--------------------------+--------------------------------+----------------------+----------------+-------------+------------+-----------+----------------+----------------+------+--------------------+--------------------+\n",
            "|CUST_ID|    BALANCE|BALANCE_FREQUENCY|PURCHASES|ONEOFF_PURCHASES|INSTALLMENTS_PURCHASES|CASH_ADVANCE|PURCHASES_FREQUENCY|ONEOFF_PURCHASES_FREQUENCY|PURCHASES_INSTALLMENTS_FREQUENCY|CASH_ADVANCE_FREQUENCY|CASH_ADVANCE_TRX|PURCHASES_TRX|CREDIT_LIMIT|   PAYMENTS|MINIMUM_PAYMENTS|PRC_FULL_PAYMENT|TENURE|            features|        standardized|\n",
            "+-------+-----------+-----------------+---------+----------------+----------------------+------------+-------------------+--------------------------+--------------------------------+----------------------+----------------+-------------+------------+-----------+----------------+----------------+------+--------------------+--------------------+\n",
            "| C10001|  40.900749|         0.818182|     95.4|             0.0|                  95.4|         0.0|           0.166667|                       0.0|                        0.083333|                   0.0|               0|            2|      1000.0| 201.802084|      139.509787|             0.0|    12|[40.900749,0.8181...|[0.01951770812869...|\n",
            "| C10002|3202.467416|         0.909091|      0.0|             0.0|                   0.0| 6442.945483|                0.0|                       0.0|                             0.0|                  0.25|               4|            0|      7000.0|4103.032597|     1072.340217|        0.222222|    12|[3202.467416,0.90...|[1.52820732738048...|\n",
            "+-------+-----------+-----------------+---------+----------------+----------------------+------------+-------------------+--------------------------+--------------------------------+----------------------+----------------+-------------+------------+-----------+----------------+----------------+------+--------------------+--------------------+\n",
            "only showing top 2 rows\n",
            "\n"
          ]
        }
      ]
    },
    {
      "cell_type": "code",
      "metadata": {
        "id": "FB8VoaHbAhXC",
        "outputId": "9bb6db5d-9bb2-4ada-dfad-2ca8c1155789",
        "colab": {
          "base_uri": "https://localhost:8080/"
        }
      },
      "source": [
        "from pyspark.ml.clustering import KMeans\n",
        "from pyspark.ml.evaluation import ClusteringEvaluator\n",
        "silhouette_score=[]\n",
        "evaluator = ClusteringEvaluator(predictionCol='prediction', featuresCol='standardized', \\\n",
        "                                metricName='silhouette', distanceMeasure='squaredEuclidean')\n",
        "for i in range(2,10):\n",
        "    \n",
        "    KMeans_algo=KMeans(featuresCol='standardized', k=i)\n",
        "    \n",
        "    KMeans_fit=KMeans_algo.fit(data_scale_output)\n",
        "    \n",
        "    output=KMeans_fit.transform(data_scale_output)\n",
        "    \n",
        "    score=evaluator.evaluate(output)\n",
        "    \n",
        "    silhouette_score.append(score)\n",
        "    \n",
        "    print(\"Silhouette Score:\",score)"
      ],
      "execution_count": 13,
      "outputs": [
        {
          "output_type": "stream",
          "name": "stdout",
          "text": [
            "Silhouette Score: 0.5072826123334669\n",
            "Silhouette Score: 0.23859448410725492\n",
            "Silhouette Score: 0.36422379640356556\n",
            "Silhouette Score: 0.22433597716882983\n",
            "Silhouette Score: 0.2526487106651543\n",
            "Silhouette Score: 0.2373718932736326\n",
            "Silhouette Score: 0.2448404473492103\n",
            "Silhouette Score: 0.2493487881988621\n"
          ]
        }
      ]
    },
    {
      "cell_type": "code",
      "metadata": {
        "id": "OuV98eRSBu7a",
        "outputId": "b3c34ee4-6e9d-4979-b3ea-a8b1470914ea",
        "colab": {
          "base_uri": "https://localhost:8080/",
          "height": 405
        }
      },
      "source": [
        "#Visualizing the silhouette scores in a plot\n",
        "import matplotlib.pyplot as plt\n",
        "fig, ax = plt.subplots(1,1, figsize =(8,6))\n",
        "ax.plot(range(2,10),silhouette_score)\n",
        "ax.set_xlabel('k')\n",
        "ax.set_ylabel('cost')"
      ],
      "execution_count": 14,
      "outputs": [
        {
          "output_type": "execute_result",
          "data": {
            "text/plain": [
              "Text(0, 0.5, 'cost')"
            ]
          },
          "metadata": {},
          "execution_count": 14
        },
        {
          "output_type": "display_data",
          "data": {
            "image/png": "[encoded data removed]",
            "text/plain": [
              "<Figure size 576x432 with 1 Axes>"
            ]
          },
          "metadata": {
            "needs_background": "light"
          }
        }
      ]
    },
    {
      "cell_type": "code",
      "metadata": {
        "id": "cP1NY8J0EiDu"
      },
      "source": [
        ""
      ],
      "execution_count": 14,
      "outputs": []
    }
  ]
}