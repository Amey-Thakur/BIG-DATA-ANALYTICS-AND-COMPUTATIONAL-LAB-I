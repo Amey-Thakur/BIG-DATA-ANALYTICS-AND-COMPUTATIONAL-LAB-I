{
  "nbformat": 4,
  "nbformat_minor": 0,
  "metadata": {
    "colab": {
      "name": "BDA-8.ipynb",
      "private_outputs": true,
      "provenance": [],
      "authorship_tag": "ABX9TyOuXZSE8lpRhvEk9JDAlO9p",
      "include_colab_link": true
    },
    "kernelspec": {
      "name": "python3",
      "display_name": "Python 3"
    },
    "language_info": {
      "name": "python"
    }
  },
  "cells": [
    {
      "cell_type": "markdown",
      "metadata": {
        "id": "view-in-github",
        "colab_type": "text"
      },
      "source": [
        "<a href=\"https://colab.research.google.com/github/Amey-Thakur/BIG-DATA-ANALYTICS-AND-COMPUTATIONAL-LAB-I/blob/main/BDA_8.ipynb\" target=\"_parent\"><img src=\"https://colab.research.google.com/assets/colab-badge.svg\" alt=\"Open In Colab\"/></a>"
      ]
    },
    {
      "cell_type": "code",
      "metadata": {
        "id": "vSgokkC-DTzo"
      },
      "source": [
        "inp = list(map(int,input(\"Enter Elements : \").split()))\n",
        "bucket_list = []\n",
        "bucket_size_count = {}\n",
        "\n",
        "def checker():\n",
        "    for ct in bucket_size_count.keys():\n",
        "        if(bucket_size_count[ct]>2):\n",
        "            s2,e2,size2 = bucket_list.pop(-2)\n",
        "            s1,e1,size1 = bucket_list.pop(-2)\n",
        "            bucket_list.insert(-1,(s1,e2,size1*2))\n",
        "            bucket_size_count[ct]-=2\n",
        "\n",
        "start_index =0\n",
        "end_index = 0\n",
        "pair = 0\n",
        "\n",
        "for i in range(len(inp)):\n",
        "    bit = inp[i]\n",
        "    if(bit == 1):\n",
        "        if(pair == 1):\n",
        "            end_index = i\n",
        "            pair = 0\n",
        "            bucket_list.append((start_index,end_index,2))\n",
        "            if 2 in bucket_size_count:\n",
        "                bucket_size_count[2]+=1\n",
        "            else:\n",
        "                bucket_size_count[2] = 1\n",
        "            checker()\n",
        "        else:\n",
        "            start_index = i\n",
        "            pair = 1\n",
        "\n",
        "\n",
        "print (\"Bucket Indexes Are : \",bucket_list)\n",
        "starts = []\n",
        "ends = []\n",
        "for s,e,size in bucket_list:\n",
        "    starts.append(s)\n",
        "    ends.append(e)\n",
        "\n",
        "print (\"Buckets are \",end=\"\")\n",
        "\n",
        "for i in range(len(inp)):\n",
        "    bit = inp[i]\n",
        "    if(i in starts):\n",
        "        print (\" \" ,bit,end=\"\")\n",
        "    elif(i in ends):\n",
        "        print (bit,end= \" \")\n",
        "    else:\n",
        "        print (bit,end = \" \")\n",
        "\n",
        "k = int(input(\"\\nEnter window size : \"))\n",
        "length = len(inp)\n",
        "\n",
        "bound1 = length-1-k\n",
        "bound2 = length-1\n",
        "\n",
        "ones_count = 0\n",
        "\n",
        "for s,e,size in bucket_list[::-1]:\n",
        "    if(s<bound1 and e < bound1):\n",
        "        break\n",
        "    elif(s<=bound1 and e >= bound1):\n",
        "        ones_count +=int(size/2)\n",
        "    elif(s>=bound1 and e >= bound1):\n",
        "        ones_count += size\n",
        "\n",
        "print (\"Number of 1s in Last\",k,\"bits are \",ones_count)"
      ],
      "execution_count": null,
      "outputs": []
    },
    {
      "cell_type": "code",
      "metadata": {
        "id": "fR-p9KajE_Xb"
      },
      "source": [
        ""
      ],
      "execution_count": null,
      "outputs": []
    }
  ]
}